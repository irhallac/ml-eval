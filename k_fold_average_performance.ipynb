{
 "cells": [
  {
   "cell_type": "code",
   "execution_count": 10,
   "metadata": {},
   "outputs": [],
   "source": [
    "def keep_record(model, xtest, ytest):\n",
    "    predictions = model.predict(xtest)\n",
    "    y_pred = np.argmax(predictions, axis=1)\n",
    "    y_true = np.argmax(ytest, axis=1)\n",
    "    precision, recall, fscore, support = score(y_true, y_pred)\n",
    "    precisions.append(precision)\n",
    "    recalls.append(recall)\n",
    "    fscores.append(fscore)\n",
    "    supports.append(support)\n",
    "    \n",
    "    cm = metrics.confusion_matrix(y_true, y_pred)\n",
    "    cms.append(cm)\n",
    "\n",
    "\n",
    "    scores = model.evaluate(xtest, ytest, verbose=0)\n",
    "    print(\"%s: %.2f%%\" % (model.metrics_names[1], scores[1]*100))\n",
    "    cvscores.append(scores[1] * 100)"
   ]
  },
  {
   "cell_type": "code",
   "execution_count": null,
   "metadata": {},
   "outputs": [],
   "source": [
    "from sklearn.metrics import classification_report\n",
    "from sklearn.metrics import precision_recall_fscore_support as score\n",
    "from sklearn import metrics\n",
    "\n",
    "num_folds = 10\n",
    "kfold = StratifiedKFold(n_splits=num_folds, shuffle=True, random_state=seed)\n",
    "\n",
    "cvscores = []\n",
    "histories = []\n",
    "precisions = []\n",
    "recalls = []\n",
    "fscores = []\n",
    "supports = []\n",
    "cms = []\n",
    "    \n",
    "epochs = 10\n",
    "batch_size = 64\n",
    "\n",
    "for train, test in kfold.split(X, Y.argmax(1)): \n",
    "    model = get_model()\n",
    "    model.compile(loss='categorical_crossentropy',\n",
    "                  optimizer='rmsprop',\n",
    "                  metrics=['acc'])\n",
    "    history = model.fit(X[train], Y[train], epochs=epochs, batch_size=batch_size, verbose=1)\n",
    "    histories.append(history)\n",
    "    keep_record(model, X[test], Y[test])\n",
    "\n",
    "\n",
    "print(\"%.2f%% (+/- %.2f%%)\" % (np.mean(cvscores), np.std(cvscores)))"
   ]
  },
  {
   "cell_type": "code",
   "execution_count": 16,
   "metadata": {},
   "outputs": [],
   "source": [
    "tp = 0\n",
    "tn = 0\n",
    "fp = 0\n",
    "fn = 0\n",
    "for cm in cms:\n",
    "    tn = tn + cm[0][0]\n",
    "    fn = fn + cm[1][0]\n",
    "    tp = tp + cm[1][1]\n",
    "    fp = fp + cm[0][1]\n",
    "    \n",
    "precision = (tp) / (tp + fp)\n",
    "recall = (tp) / (tp + fn)\n",
    "f1 = (2 * precision * recall) / (precision + recall)\n",
    "acc = (tp + tn) / (tp + tn + fp + fn)\n",
    "\n",
    "print(\"precision\", precision )\n",
    "print(\"recall\", recall )\n",
    "print(\"f1\", f1 )\n",
    "print(\"acc\", acc )"
   ]
  }
 ],
 "metadata": {
  "kernelspec": {
   "display_name": "Python 3",
   "language": "python",
   "name": "python3"
  },
  "language_info": {
   "codemirror_mode": {
    "name": "ipython",
    "version": 3
   },
   "file_extension": ".py",
   "mimetype": "text/x-python",
   "name": "python",
   "nbconvert_exporter": "python",
   "pygments_lexer": "ipython3",
   "version": "3.5.6"
  }
 },
 "nbformat": 4,
 "nbformat_minor": 2
}
