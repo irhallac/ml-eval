{
 "cells": [
  {
   "cell_type": "code",
   "execution_count": 1,
   "metadata": {},
   "outputs": [],
   "source": [
    "# you don't have true positives (tp), true negatives (tn), false positives (fp) and false negatives (fn)\n",
    "# but you have precision, recall, f1 and number of test samples for each class\n",
    "# to calculate the tp, tn, fp, fn:\n",
    "\n",
    "from sympy import symbols, Eq, solve\n",
    "\n",
    "#givens\n",
    "pos = 455233 #number of positive samples in test set\n",
    "neg = 48701 #number of negative samples in test set\n",
    "acc = 0.9648763528557311\n",
    "precision = 0.9706690418869232\n",
    "recall = 0.9910661133968759\n",
    "f1 = 0.9807615387290877\n",
    "\n",
    "#precision = (tp) / (tp + fp)\n",
    "#recall = (tp) / (tp + fn)\n",
    "#f1 = (2 * precision * recall) / (precision + recall)\n",
    "#acc = (tp + tn) / (tp + tn + fp + fn)\n",
    "\n",
    "#real values for crosscheck\n",
    "tn_r = 35068\n",
    "fn_r = 4067\n",
    "tp_r = 451166\n",
    "fp_r = 13633"
   ]
  },
  {
   "cell_type": "code",
   "execution_count": 2,
   "metadata": {},
   "outputs": [
    {
     "data": {
      "text/plain": [
       "{fn: 4066.99999999994,\n",
       " fp: 13633.0000000001,\n",
       " tn: 35068.0000000007,\n",
       " tp: 451165.999999999}"
      ]
     },
     "execution_count": 2,
     "metadata": {},
     "output_type": "execute_result"
    }
   ],
   "source": [
    "tp, tn, fp, fn = symbols('tp tn fp fn')\n",
    "\n",
    "eq0 = Eq(tp + tn, acc*(pos+neg))\n",
    "eq1 = Eq(fp + fn , (pos+neg)- acc*(pos+neg))\n",
    "eq2 = Eq((tp) / (tp + fp), precision)\n",
    "eq3 = Eq((tp) / (tp + fn), recall)\n",
    "\n",
    "solve((eq0, eq1,eq2, eq3), (tp, tn, fp, fn))"
   ]
  }
 ],
 "metadata": {
  "kernelspec": {
   "display_name": "Python 3",
   "language": "python",
   "name": "python3"
  },
  "language_info": {
   "codemirror_mode": {
    "name": "ipython",
    "version": 3
   },
   "file_extension": ".py",
   "mimetype": "text/x-python",
   "name": "python",
   "nbconvert_exporter": "python",
   "pygments_lexer": "ipython3",
   "version": "3.5.6"
  }
 },
 "nbformat": 4,
 "nbformat_minor": 2
}
